{
 "cells": [
  {
   "cell_type": "markdown",
   "id": "25510c27",
   "metadata": {},
   "source": [
    "## Essentials of NumPy"
   ]
  },
  {
   "cell_type": "code",
   "execution_count": 1,
   "id": "0d010fee",
   "metadata": {},
   "outputs": [
    {
     "name": "stdout",
     "output_type": "stream",
     "text": [
      "Collecting numpy\n",
      "  Using cached numpy-2.3.1-cp312-cp312-macosx_14_0_arm64.whl.metadata (62 kB)\n",
      "Using cached numpy-2.3.1-cp312-cp312-macosx_14_0_arm64.whl (5.1 MB)\n",
      "Installing collected packages: numpy\n",
      "Successfully installed numpy-2.3.1\n"
     ]
    }
   ],
   "source": [
    "# Install package\n",
    "!pip install numpy"
   ]
  },
  {
   "cell_type": "code",
   "execution_count": 2,
   "id": "92ebcf28",
   "metadata": {},
   "outputs": [],
   "source": [
    "# Import package\n",
    "import numpy as np"
   ]
  },
  {
   "cell_type": "code",
   "execution_count": 3,
   "id": "8c2008eb",
   "metadata": {},
   "outputs": [
    {
     "data": {
      "text/plain": [
       "array([1, 2, 3, 4])"
      ]
     },
     "execution_count": 3,
     "metadata": {},
     "output_type": "execute_result"
    }
   ],
   "source": [
    "# Convert Python lists to arrays\n",
    "numbers_list = [1, 2, 3, 4]\n",
    "\n",
    "# Creating an array from the list\n",
    "numbers_arr = np.array(numbers_list)\n",
    "numbers_arr"
   ]
  },
  {
   "cell_type": "code",
   "execution_count": 4,
   "id": "2e3a960f",
   "metadata": {},
   "outputs": [
    {
     "data": {
      "text/plain": [
       "numpy.ndarray"
      ]
     },
     "execution_count": 4,
     "metadata": {},
     "output_type": "execute_result"
    }
   ],
   "source": [
    "type(numbers_arr)"
   ]
  },
  {
   "cell_type": "code",
   "execution_count": 6,
   "id": "e9c208fc",
   "metadata": {},
   "outputs": [
    {
     "data": {
      "text/plain": [
       "array([1., 2., 3., 4.])"
      ]
     },
     "execution_count": 6,
     "metadata": {},
     "output_type": "execute_result"
    }
   ],
   "source": [
    "# Creating an array of floats from the list\n",
    "numbers_float_arr = np.array(numbers_list, dtype=float)\n",
    "numbers_float_arr"
   ]
  },
  {
   "cell_type": "code",
   "execution_count": 7,
   "id": "eeb49fbb",
   "metadata": {},
   "outputs": [
    {
     "data": {
      "text/plain": [
       "array([['Reena', 'Rachel', 'Mercedes'],\n",
       "       ['Kumar', 'John', 'Karel']], dtype='<U8')"
      ]
     },
     "execution_count": 7,
     "metadata": {},
     "output_type": "execute_result"
    }
   ],
   "source": [
    "names_list = [[\"Reena\", \"Rachel\", \"Mercedes\"], [\"Kumar\", \"John\", \"Karel\"]]\n",
    "\n",
    "# Creating an array of strings from the names list\n",
    "names_arr = np.array(names_list)\n",
    "names_arr"
   ]
  },
  {
   "cell_type": "code",
   "execution_count": 8,
   "id": "b99eb1ec",
   "metadata": {},
   "outputs": [
    {
     "data": {
      "text/plain": [
       "2"
      ]
     },
     "execution_count": 8,
     "metadata": {},
     "output_type": "execute_result"
    }
   ],
   "source": [
    "# Check the number of dimensions in the array\n",
    "names_arr.ndim"
   ]
  },
  {
   "cell_type": "code",
   "execution_count": 9,
   "id": "7203a335",
   "metadata": {},
   "outputs": [
    {
     "data": {
      "text/plain": [
       "6"
      ]
     },
     "execution_count": 9,
     "metadata": {},
     "output_type": "execute_result"
    }
   ],
   "source": [
    "# Get the total number of elements in the names_arr array (rows × columns)\n",
    "names_arr.size"
   ]
  },
  {
   "cell_type": "code",
   "execution_count": 13,
   "id": "fca6fdc4",
   "metadata": {},
   "outputs": [
    {
     "data": {
      "text/plain": [
       "array([0, 2, 4, 6, 8])"
      ]
     },
     "execution_count": 13,
     "metadata": {},
     "output_type": "execute_result"
    }
   ],
   "source": [
    "# Create a NumPy array with values starting from 0 up to (but not including) 10, incrementing by 2\n",
    "range_arr = np.arange(0, 10, 2)\n",
    "range_arr"
   ]
  },
  {
   "cell_type": "code",
   "execution_count": null,
   "id": "dbac60c4",
   "metadata": {},
   "outputs": [
    {
     "data": {
      "text/plain": [
       "array([[0., 0., 0., 0.],\n",
       "       [0., 0., 0., 0.],\n",
       "       [0., 0., 0., 0.]])"
      ]
     },
     "execution_count": 31,
     "metadata": {},
     "output_type": "execute_result"
    }
   ],
   "source": [
    "# Create a 3x4 NumPy array filled with zeros, with data type float\n",
    "zeros_arr = np.zeros((3, 4), dtype=float)\n",
    "zeros_arr"
   ]
  },
  {
   "cell_type": "code",
   "execution_count": 14,
   "id": "e3bd1c2f",
   "metadata": {},
   "outputs": [
    {
     "data": {
      "text/plain": [
       "array([[1., 1., 1., 1.],\n",
       "       [1., 1., 1., 1.],\n",
       "       [1., 1., 1., 1.]])"
      ]
     },
     "execution_count": 14,
     "metadata": {},
     "output_type": "execute_result"
    }
   ],
   "source": [
    "# Create a 3x4 NumPy array filled with ones, with data type float\n",
    "ones_arr = np.ones((3, 4), dtype=float)\n",
    "ones_arr"
   ]
  },
  {
   "cell_type": "code",
   "execution_count": 22,
   "id": "ca0d5680",
   "metadata": {},
   "outputs": [
    {
     "data": {
      "text/plain": [
       "array([[0, 7, 6, 2],\n",
       "       [8, 6, 4, 8],\n",
       "       [1, 0, 6, 2]])"
      ]
     },
     "execution_count": 22,
     "metadata": {},
     "output_type": "execute_result"
    }
   ],
   "source": [
    "# Create a random number generator using NumPy's Generator class\n",
    "random_number_gen = np.random.default_rng()\n",
    "\n",
    "# Generate a 3x4 array of random integers from 0 (inclusive) to 10 (exclusive)\n",
    "random_number_gen.integers(0, 10, size=(3, 4))"
   ]
  },
  {
   "cell_type": "code",
   "execution_count": 37,
   "id": "3bde4179",
   "metadata": {},
   "outputs": [
    {
     "data": {
      "text/plain": [
       "array([[0.33026884, 0.40517732, 0.57473782, 0.50639977],\n",
       "       [0.56421251, 0.56968731, 0.87411653, 0.08643046],\n",
       "       [0.74247527, 0.82036726, 0.71216007, 0.40992561]])"
      ]
     },
     "execution_count": 37,
     "metadata": {},
     "output_type": "execute_result"
    }
   ],
   "source": [
    "# Create a random number generator with a fixed seed (24) for reproducible results\n",
    "rng = np.random.default_rng(seed=24)\n",
    "\n",
    "# Generate a 3x4 array of random floats uniformly distributed in the range [0.0, 1.0)\n",
    "rng.random((3, 4))"
   ]
  },
  {
   "cell_type": "code",
   "execution_count": 39,
   "id": "f34b1f60",
   "metadata": {},
   "outputs": [
    {
     "data": {
      "text/plain": [
       "array([['Reena', 'Rachel', 'Mercedes'],\n",
       "       ['Kumar', 'John', 'Karel']], dtype='<U8')"
      ]
     },
     "execution_count": 39,
     "metadata": {},
     "output_type": "execute_result"
    }
   ],
   "source": [
    "# Create a nested list containing two sublists of names\n",
    "names_list = [[\"Reena\", \"Rachel\", \"Mercedes\"], [\"Kumar\", \"John\", \"Karel\"]]\n",
    "\n",
    "# Convert the nested list into a 2D NumPy array\n",
    "names_arr = np.array(names_list)\n",
    "names_arr"
   ]
  },
  {
   "cell_type": "code",
   "execution_count": 40,
   "id": "69f16836",
   "metadata": {},
   "outputs": [
    {
     "data": {
      "text/plain": [
       "array([['Rachel', 'Mercedes'],\n",
       "       ['John', 'Karel']], dtype='<U8')"
      ]
     },
     "execution_count": 40,
     "metadata": {},
     "output_type": "execute_result"
    }
   ],
   "source": [
    "# Select all rows and columns starting from index 1 (i.e., exclude the first column)\n",
    "# : -> Select all rows\n",
    "# 1: -> Select columns starting from index 1 to the end\n",
    "names_arr[:, 1:]"
   ]
  },
  {
   "cell_type": "code",
   "execution_count": 41,
   "id": "65df2f7a",
   "metadata": {},
   "outputs": [
    {
     "data": {
      "text/plain": [
       "array(['Kumar', 'Mercedes'], dtype='<U8')"
      ]
     },
     "execution_count": 41,
     "metadata": {},
     "output_type": "execute_result"
    }
   ],
   "source": [
    "# Create index arrays to select specific elements\n",
    "select_kumar = np.array([1, 0])\n",
    "select_mercedes = np.array([0, 2])\n",
    "\n",
    "# Use fancy indexing to select elements at (1,0) and (0,2): \"Kumar\" and \"Mercedes\"\n",
    "select_kumar_mercedes = names_arr[select_kumar, select_mercedes]\n",
    "select_kumar_mercedes"
   ]
  },
  {
   "cell_type": "code",
   "execution_count": 42,
   "id": "ac5ec630",
   "metadata": {},
   "outputs": [
    {
     "data": {
      "text/plain": [
       "array(['Kumar', 'Mercedes'], dtype='<U8')"
      ]
     },
     "execution_count": 42,
     "metadata": {},
     "output_type": "execute_result"
    }
   ],
   "source": [
    "names_arr[[1, 0], [0, 2]]"
   ]
  },
  {
   "cell_type": "code",
   "execution_count": 47,
   "id": "685daa34",
   "metadata": {},
   "outputs": [
    {
     "name": "stdout",
     "output_type": "stream",
     "text": [
      "[[False  True False]\n",
      " [ True False  True]\n",
      " [False  True False]]\n"
     ]
    },
    {
     "data": {
      "text/plain": [
       "array([2, 4, 6, 8])"
      ]
     },
     "execution_count": 47,
     "metadata": {},
     "output_type": "execute_result"
    }
   ],
   "source": [
    "# Create a 3x3 NumPy array of integers\n",
    "number_arr = np.array([[1, 2, 3], [4, 5, 6], [7, 8, 9]])\n",
    "\n",
    "# Create a boolean mask where each element is True if it's even, False otherwise\n",
    "filter_array = number_arr % 2 == 0\n",
    "print(filter_array)\n",
    "\n",
    "# Use the boolean mask to filter and return only the even elements from the original array\n",
    "number_arr[filter_array]"
   ]
  },
  {
   "cell_type": "code",
   "execution_count": 50,
   "id": "ba70e40d",
   "metadata": {},
   "outputs": [
    {
     "data": {
      "text/plain": [
       "array([1, 2, 3, 4, 5, 6, 7, 8, 9])"
      ]
     },
     "execution_count": 50,
     "metadata": {},
     "output_type": "execute_result"
    }
   ],
   "source": [
    "# Flatten the array using reshape\n",
    "np.reshape(number_arr, number_arr.size)"
   ]
  },
  {
   "cell_type": "code",
   "execution_count": 51,
   "id": "7db22520",
   "metadata": {},
   "outputs": [
    {
     "data": {
      "text/plain": [
       "array([['Reena', 'Rachel', 'Mercedes'],\n",
       "       ['Kumar', 'John', 'Karel']], dtype='<U8')"
      ]
     },
     "execution_count": 51,
     "metadata": {},
     "output_type": "execute_result"
    }
   ],
   "source": [
    "# Create a nested list containing two sublists of names\n",
    "names_list = [[\"Reena\", \"Rachel\", \"Mercedes\"], [\"Kumar\", \"John\", \"Karel\"]]\n",
    "\n",
    "# Convert the nested list into a 2D NumPy array\n",
    "names_arr = np.array(names_list)\n",
    "names_arr"
   ]
  },
  {
   "cell_type": "code",
   "execution_count": 52,
   "id": "449c7994",
   "metadata": {},
   "outputs": [
    {
     "data": {
      "text/plain": [
       "array([['Reena', 'Rachel'],\n",
       "       ['Mercedes', 'Kumar'],\n",
       "       ['John', 'Karel']], dtype='<U8')"
      ]
     },
     "execution_count": 52,
     "metadata": {},
     "output_type": "execute_result"
    }
   ],
   "source": [
    "# Reshape the array from shape (2, 3) to shape (3, 2) without changing data\n",
    "new_names_arr = np.reshape(names_arr, (3, 2))\n",
    "new_names_arr"
   ]
  },
  {
   "cell_type": "code",
   "execution_count": 56,
   "id": "fb0780d0",
   "metadata": {},
   "outputs": [
    {
     "data": {
      "text/plain": [
       "array([[ 10,  20,  30],\n",
       "       [ 40,  50,  60],\n",
       "       [ 70,  80,  90],\n",
       "       [100, 110, 120],\n",
       "       [130, 140, 150]])"
      ]
     },
     "execution_count": 56,
     "metadata": {},
     "output_type": "execute_result"
    }
   ],
   "source": [
    "# Create two NumPy arrays:\n",
    "# number_arr1 is a 3x3 array\n",
    "number_arr1 = np.array([[10, 20, 30], [40, 50, 60], [70, 80, 90]])\n",
    "# number_arr2 is a 2x3 array\n",
    "number_arr2 = np.array([[100, 110, 120], [130, 140, 150]])\n",
    "\n",
    "# Concatenate the two arrays vertically (along axis 0 -> rows)\n",
    "# Both arrays must have the same number of columns (which they do: 3)\n",
    "number_arr3 = np.concatenate((number_arr1, number_arr2), axis=0)\n",
    "number_arr3"
   ]
  },
  {
   "cell_type": "code",
   "execution_count": 57,
   "id": "49fbd5af",
   "metadata": {},
   "outputs": [
    {
     "data": {
      "text/plain": [
       "array([['Reena', 'Rachel', 'Mercedes'],\n",
       "       ['Kumar', 'John', 'Karel']], dtype='<U8')"
      ]
     },
     "execution_count": 57,
     "metadata": {},
     "output_type": "execute_result"
    }
   ],
   "source": [
    "# Create a nested list containing two sublists of names\n",
    "names_list = [[\"Reena\", \"Rachel\", \"Mercedes\"], [\"Kumar\", \"John\", \"Karel\"]]\n",
    "\n",
    "# Convert the nested list into a 2D NumPy array\n",
    "names_arr = np.array(names_list)\n",
    "names_arr"
   ]
  },
  {
   "cell_type": "code",
   "execution_count": 58,
   "id": "bee0246c",
   "metadata": {},
   "outputs": [],
   "source": [
    "# using split to split array into two parts\n",
    "split_one, split_two = np.split(names_arr, 2)"
   ]
  },
  {
   "cell_type": "code",
   "execution_count": 59,
   "id": "a0e15a81",
   "metadata": {},
   "outputs": [
    {
     "data": {
      "text/plain": [
       "array([['Reena', 'Rachel', 'Mercedes']], dtype='<U8')"
      ]
     },
     "execution_count": 59,
     "metadata": {},
     "output_type": "execute_result"
    }
   ],
   "source": [
    "split_one"
   ]
  },
  {
   "cell_type": "code",
   "execution_count": 99,
   "id": "7d8ff62a",
   "metadata": {},
   "outputs": [
    {
     "data": {
      "text/plain": [
       "array([['Kumar', 'John', 'Karel']], dtype='<U8')"
      ]
     },
     "execution_count": 99,
     "metadata": {},
     "output_type": "execute_result"
    }
   ],
   "source": [
    "split_two"
   ]
  },
  {
   "cell_type": "code",
   "execution_count": 60,
   "id": "3d6074f8",
   "metadata": {},
   "outputs": [
    {
     "ename": "ValueError",
     "evalue": "shapes (3,3) and (2,3) not aligned: 3 (dim 1) != 2 (dim 0)",
     "output_type": "error",
     "traceback": [
      "\u001b[31m---------------------------------------------------------------------------\u001b[39m",
      "\u001b[31mValueError\u001b[39m                                Traceback (most recent call last)",
      "\u001b[36mCell\u001b[39m\u001b[36m \u001b[39m\u001b[32mIn[60]\u001b[39m\u001b[32m, line 10\u001b[39m\n\u001b[32m      5\u001b[39m number_arr2 = np.array([[\u001b[32m10\u001b[39m, \u001b[32m11\u001b[39m, \u001b[32m12\u001b[39m], [\u001b[32m13\u001b[39m, \u001b[32m14\u001b[39m, \u001b[32m15\u001b[39m]])\n\u001b[32m      7\u001b[39m \u001b[38;5;66;03m# Performing a dot product (matrix multiplication) — this will raise an error\u001b[39;00m\n\u001b[32m      8\u001b[39m \u001b[38;5;66;03m# because the number of columns in number_arr1 (3) does not match\u001b[39;00m\n\u001b[32m      9\u001b[39m \u001b[38;5;66;03m# the number of rows in number_arr2 (2), which is required for np.dot\u001b[39;00m\n\u001b[32m---> \u001b[39m\u001b[32m10\u001b[39m \u001b[43mnp\u001b[49m\u001b[43m.\u001b[49m\u001b[43mdot\u001b[49m\u001b[43m(\u001b[49m\u001b[43mnumber_arr1\u001b[49m\u001b[43m,\u001b[49m\u001b[43m \u001b[49m\u001b[43mnumber_arr2\u001b[49m\u001b[43m)\u001b[49m\n",
      "\u001b[31mValueError\u001b[39m: shapes (3,3) and (2,3) not aligned: 3 (dim 1) != 2 (dim 0)"
     ]
    }
   ],
   "source": [
    "# Create two NumPy arrays:\n",
    "# number_arr1 is a 3x3 array\n",
    "number_arr1 = np.array([[1, 2, 3], [4, 5, 6], [7, 8, 9]])\n",
    "# number_arr2 is a 2x3 array\n",
    "number_arr2 = np.array([[10, 11, 12], [13, 14, 15]])\n",
    "\n",
    "# Performing a dot product (matrix multiplication) — this will raise an error\n",
    "# because the number of columns in number_arr1 (3) does not match\n",
    "# the number of rows in number_arr2 (2), which is required for np.dot\n",
    "np.dot(number_arr1, number_arr2)"
   ]
  },
  {
   "cell_type": "code",
   "execution_count": 63,
   "id": "72c290fe",
   "metadata": {},
   "outputs": [
    {
     "data": {
      "text/plain": [
       "array([[10, 11, 12],\n",
       "       [13, 14, 15]])"
      ]
     },
     "execution_count": 63,
     "metadata": {},
     "output_type": "execute_result"
    }
   ],
   "source": [
    "number_arr2"
   ]
  },
  {
   "cell_type": "code",
   "execution_count": 64,
   "id": "ab9472a1",
   "metadata": {},
   "outputs": [
    {
     "data": {
      "text/plain": [
       "array([[10, 13],\n",
       "       [11, 14],\n",
       "       [12, 15]])"
      ]
     },
     "execution_count": 64,
     "metadata": {},
     "output_type": "execute_result"
    }
   ],
   "source": [
    "number_arr2.transpose()"
   ]
  },
  {
   "cell_type": "code",
   "execution_count": 65,
   "id": "120f22a9",
   "metadata": {},
   "outputs": [
    {
     "data": {
      "text/plain": [
       "array([[ 68,  86],\n",
       "       [167, 212],\n",
       "       [266, 338]])"
      ]
     },
     "execution_count": 65,
     "metadata": {},
     "output_type": "execute_result"
    }
   ],
   "source": [
    "# Fix: Transpose number_arr2 to shape (3, 2), now dot product is valid\n",
    "np.dot(number_arr1, number_arr2.transpose())"
   ]
  },
  {
   "cell_type": "code",
   "execution_count": 66,
   "id": "d285047e",
   "metadata": {},
   "outputs": [
    {
     "data": {
      "text/plain": [
       "array([[ 4,  5, 10],\n",
       "       [10, 12, 15]])"
      ]
     },
     "execution_count": 66,
     "metadata": {},
     "output_type": "execute_result"
    }
   ],
   "source": [
    "# Create two 2x3 NumPy arrays\n",
    "number_arr1 = np.array([[1, 2, 4], [6, 7, 8]])\n",
    "number_arr2 = np.array([[3, 3, 6], [4, 5, 7]])\n",
    "\n",
    "# Add the two arrays element-wise (i.e., same-position elements are added together)\n",
    "np.add(number_arr1, number_arr2)"
   ]
  },
  {
   "cell_type": "code",
   "execution_count": 121,
   "id": "d1a2c846",
   "metadata": {},
   "outputs": [
    {
     "data": {
      "text/plain": [
       "array([[-2, -1, -2],\n",
       "       [ 2,  2,  1]])"
      ]
     },
     "execution_count": 121,
     "metadata": {},
     "output_type": "execute_result"
    }
   ],
   "source": [
    "# Subtracting two arrays\n",
    "np.subtract(number_arr1, number_arr2)"
   ]
  },
  {
   "cell_type": "code",
   "execution_count": 122,
   "id": "661ae64b",
   "metadata": {},
   "outputs": [
    {
     "data": {
      "text/plain": [
       "array([[ 3,  6, 24],\n",
       "       [24, 35, 56]])"
      ]
     },
     "execution_count": 122,
     "metadata": {},
     "output_type": "execute_result"
    }
   ],
   "source": [
    "# multiplying two arrays\n",
    "np.multiply(number_arr1, number_arr2)"
   ]
  },
  {
   "cell_type": "code",
   "execution_count": 123,
   "id": "4c58fbb1",
   "metadata": {},
   "outputs": [
    {
     "data": {
      "text/plain": [
       "array([[0.33333333, 0.66666667, 0.66666667],\n",
       "       [1.5       , 1.4       , 1.14285714]])"
      ]
     },
     "execution_count": 123,
     "metadata": {},
     "output_type": "execute_result"
    }
   ],
   "source": [
    "# Dividing two arrays\n",
    "np.divide(number_arr1, number_arr2)"
   ]
  },
  {
   "cell_type": "code",
   "execution_count": 73,
   "id": "1a592c99",
   "metadata": {},
   "outputs": [
    {
     "data": {
      "text/plain": [
       "array([[ 9,  9, 36],\n",
       "       [16, 25, 49]])"
      ]
     },
     "execution_count": 73,
     "metadata": {},
     "output_type": "execute_result"
    }
   ],
   "source": [
    "# Create a 2x3 NumPy array\n",
    "number_arr1 = np.array([[3, 3, 6], [4, 5, 7]])\n",
    "\n",
    "# Raise each element of the array to the power of 2 (element-wise squaring)\n",
    "np.power(number_arr1, 2)"
   ]
  },
  {
   "cell_type": "code",
   "execution_count": 74,
   "id": "683b87ef",
   "metadata": {},
   "outputs": [
    {
     "data": {
      "text/plain": [
       "array([[1.73205081, 1.73205081, 2.44948974],\n",
       "       [2.        , 2.23606798, 2.64575131]])"
      ]
     },
     "execution_count": 74,
     "metadata": {},
     "output_type": "execute_result"
    }
   ],
   "source": [
    "# Calculating the square-root of array\n",
    "np.sqrt(number_arr1)"
   ]
  },
  {
   "cell_type": "code",
   "execution_count": 75,
   "id": "b02b249c",
   "metadata": {},
   "outputs": [
    {
     "data": {
      "text/plain": [
       "array([4.        , 5.33333333])"
      ]
     },
     "execution_count": 75,
     "metadata": {},
     "output_type": "execute_result"
    }
   ],
   "source": [
    "# Create a 2x3 NumPy array\n",
    "number_arr1 = np.array([[3, 3, 6], [4, 5, 7]])\n",
    "\n",
    "# Calculate the mean (average) of each row in the array\n",
    "# axis=1 means the operation is performed across columns (i.e., row-wise)\n",
    "np.mean(number_arr1, axis=1)"
   ]
  },
  {
   "cell_type": "code",
   "execution_count": 76,
   "id": "0c90a6ac",
   "metadata": {},
   "outputs": [
    {
     "data": {
      "text/plain": [
       "array([3.5, 4. , 6.5])"
      ]
     },
     "execution_count": 76,
     "metadata": {},
     "output_type": "execute_result"
    }
   ],
   "source": [
    "# Create a 2x3 NumPy array\n",
    "number_arr1 = np.array([[3, 3, 6], [4, 5, 7]])\n",
    "\n",
    "np.mean(number_arr1, axis=0)"
   ]
  },
  {
   "cell_type": "code",
   "execution_count": 77,
   "id": "77db0d95",
   "metadata": {},
   "outputs": [
    {
     "data": {
      "text/plain": [
       "array([3., 5.])"
      ]
     },
     "execution_count": 77,
     "metadata": {},
     "output_type": "execute_result"
    }
   ],
   "source": [
    "# Create a 2x3 NumPy array\n",
    "number_arr1 = np.array([[3, 3, 6], [4, 5, 7]])\n",
    "\n",
    "# Calculate the median (middle value) of each row in the array\n",
    "# axis=1 means the operation is applied row-wise (across columns)\n",
    "np.median(number_arr1, axis=1)"
   ]
  },
  {
   "cell_type": "code",
   "execution_count": 78,
   "id": "eeaae241",
   "metadata": {},
   "outputs": [
    {
     "data": {
      "text/plain": [
       "array([3.5, 4. , 6.5])"
      ]
     },
     "execution_count": 78,
     "metadata": {},
     "output_type": "execute_result"
    }
   ],
   "source": [
    "# Create a 2x3 NumPy array\n",
    "number_arr1 = np.array([[3, 3, 6], [4, 5, 7]])\n",
    "\n",
    "# Calculate the median (middle value) of each row in the array\n",
    "# axis=0 means the operation is applied column-wise (across rows)\n",
    "np.median(number_arr1, axis=0)"
   ]
  },
  {
   "cell_type": "code",
   "execution_count": 79,
   "id": "32fea253",
   "metadata": {},
   "outputs": [
    {
     "data": {
      "text/plain": [
       "array([0.5, 1. , 0.5])"
      ]
     },
     "execution_count": 79,
     "metadata": {},
     "output_type": "execute_result"
    }
   ],
   "source": [
    "# Create a 2x3 NumPy array\n",
    "number_arr1 = np.array([[3, 3, 6], [4, 5, 7]])\n",
    "\n",
    "# Calculate the standard deviation of each column in the array\n",
    "# axis=0 means the operation is applied column-wise (down the rows)\n",
    "np.std(number_arr1, axis=0)"
   ]
  },
  {
   "cell_type": "code",
   "execution_count": 81,
   "id": "8d39aec3",
   "metadata": {},
   "outputs": [
    {
     "data": {
      "text/plain": [
       "array([1.41421356, 1.24721913])"
      ]
     },
     "execution_count": 81,
     "metadata": {},
     "output_type": "execute_result"
    }
   ],
   "source": [
    "# Create a 2x3 NumPy array\n",
    "number_arr1 = np.array([[3, 3, 6], [4, 5, 7]])\n",
    "\n",
    "# Calculate the standard deviation of each row in the array\n",
    "# axis=1 means the operation is applied row-wise (down the rows)\n",
    "np.std(number_arr1, axis=1)"
   ]
  },
  {
   "cell_type": "code",
   "execution_count": 82,
   "id": "f79a430a",
   "metadata": {},
   "outputs": [
    {
     "data": {
      "text/plain": [
       "array([0.25, 1.  , 0.25])"
      ]
     },
     "execution_count": 82,
     "metadata": {},
     "output_type": "execute_result"
    }
   ],
   "source": [
    "# Create a 2x3 NumPy array\n",
    "number_arr1 = np.array([[3, 3, 6], [4, 5, 7]])\n",
    "\n",
    "# Calculate the variance of each column in the array\n",
    "# axis=0 means the operation is applied column-wise (down the rows)\n",
    "np.var(number_arr1, axis=0)"
   ]
  },
  {
   "cell_type": "code",
   "execution_count": 83,
   "id": "10e1c09d",
   "metadata": {},
   "outputs": [
    {
     "data": {
      "text/plain": [
       "array([2.        , 1.55555556])"
      ]
     },
     "execution_count": 83,
     "metadata": {},
     "output_type": "execute_result"
    }
   ],
   "source": [
    "# Create a 2x3 NumPy array\n",
    "number_arr1 = np.array([[3, 3, 6], [4, 5, 7]])\n",
    "\n",
    "# Calculate the variance of each row in the array\n",
    "# axis=1 means the operation is applied row-wise (across columns)\n",
    "np.var(number_arr1, axis=1)"
   ]
  },
  {
   "cell_type": "code",
   "execution_count": 84,
   "id": "946b6d5e",
   "metadata": {},
   "outputs": [
    {
     "data": {
      "text/plain": [
       "array([3, 3, 6])"
      ]
     },
     "execution_count": 84,
     "metadata": {},
     "output_type": "execute_result"
    }
   ],
   "source": [
    "# Create a 2x3 NumPy array\n",
    "number_arr1 = np.array([[3, 3, 6], [4, 5, 7]])\n",
    "\n",
    "# Calculate the minimum value in each column of the array\n",
    "# axis=0 means the operation is applied column-wise (down the rows)\n",
    "np.min(number_arr1, axis=0)"
   ]
  },
  {
   "cell_type": "code",
   "execution_count": 85,
   "id": "2cf06538",
   "metadata": {},
   "outputs": [
    {
     "data": {
      "text/plain": [
       "array([3, 4])"
      ]
     },
     "execution_count": 85,
     "metadata": {},
     "output_type": "execute_result"
    }
   ],
   "source": [
    "# Create a 2x3 NumPy array\n",
    "number_arr1 = np.array([[3, 3, 6], [4, 5, 7]])\n",
    "\n",
    "# Calculate the minimum value in each column of the array\n",
    "# axis=1 means the operation is applied row-wise (across columns)\n",
    "np.min(number_arr1, axis=1)"
   ]
  },
  {
   "cell_type": "code",
   "execution_count": 86,
   "id": "110e4649",
   "metadata": {},
   "outputs": [
    {
     "data": {
      "text/plain": [
       "np.int64(7)"
      ]
     },
     "execution_count": 86,
     "metadata": {},
     "output_type": "execute_result"
    }
   ],
   "source": [
    "# Create a 2x3 NumPy array\n",
    "number_arr1 = np.array([[3, 3, 6], [4, 5, 7]])\n",
    "\n",
    "# Calculate the maximum value in the entire array (all elements)\n",
    "# axis=None means the operation considers the flattened array\n",
    "np.max(number_arr1, axis=None)"
   ]
  },
  {
   "cell_type": "code",
   "execution_count": 87,
   "id": "d32acd9b",
   "metadata": {},
   "outputs": [
    {
     "data": {
      "text/plain": [
       "array([4, 5, 7])"
      ]
     },
     "execution_count": 87,
     "metadata": {},
     "output_type": "execute_result"
    }
   ],
   "source": [
    "# Create a 2x3 NumPy array\n",
    "number_arr1 = np.array([[3, 3, 6], [4, 5, 7]])\n",
    "\n",
    "# Calculate the maximum value in the entire array (all elements)\n",
    "# axis=0 means the operation considers the flattened array\n",
    "np.max(number_arr1, axis=0)"
   ]
  },
  {
   "cell_type": "code",
   "execution_count": 88,
   "id": "d0cfe32c",
   "metadata": {},
   "outputs": [
    {
     "data": {
      "text/plain": [
       "array([6, 7])"
      ]
     },
     "execution_count": 88,
     "metadata": {},
     "output_type": "execute_result"
    }
   ],
   "source": [
    "# Create a 2x3 NumPy array\n",
    "number_arr1 = np.array([[3, 3, 6], [4, 5, 7]])\n",
    "\n",
    "# Calculate the maximum value in the entire array (all elements)\n",
    "# axis=1 means the operation considers the flattened array\n",
    "np.max(number_arr1, axis=1)"
   ]
  },
  {
   "cell_type": "code",
   "execution_count": 22,
   "id": "e05cbfbe",
   "metadata": {},
   "outputs": [
    {
     "data": {
      "text/plain": [
       "array([['deekman', 'seedo', 'mersing'],\n",
       "       ['xoverro', 'angelo', 'chiara']], dtype='<U7')"
      ]
     },
     "execution_count": 22,
     "metadata": {},
     "output_type": "execute_result"
    }
   ],
   "source": [
    "# pyhton list\n",
    "list = [[\"deekman\", \"seedo\", \"mersing\"],[\"xoverro\", \"angelo\", \"chiara\"]]\n",
    "\n",
    "# Python list -> Numpy array\n",
    "name_arr = np.array(list)\n",
    "\n",
    "name_arr"
   ]
  },
  {
   "cell_type": "code",
   "execution_count": 23,
   "id": "db96880d",
   "metadata": {},
   "outputs": [
    {
     "data": {
      "text/plain": [
       "array(['seedo', 'deekman'], dtype='<U7')"
      ]
     },
     "execution_count": 23,
     "metadata": {},
     "output_type": "execute_result"
    }
   ],
   "source": [
    "# first : => Rows\n",
    "# second : => columns\n",
    "\n",
    "# Row, Column\n",
    "# name_arr[:, 2]\n",
    "\n",
    "name_arr[[0,0], [1,0]]"
   ]
  },
  {
   "cell_type": "code",
   "execution_count": 30,
   "id": "2b0b622d",
   "metadata": {},
   "outputs": [
    {
     "data": {
      "text/plain": [
       "array([['deekman', 'seedo', 'mersing'],\n",
       "       ['deekman', 'seedo', 'mersing']], dtype='<U7')"
      ]
     },
     "execution_count": 30,
     "metadata": {},
     "output_type": "execute_result"
    }
   ],
   "source": [
    "name_arr[[0,0]]"
   ]
  },
  {
   "cell_type": "code",
   "execution_count": null,
   "id": "cb8291b6",
   "metadata": {},
   "outputs": [
    {
     "data": {
      "text/plain": [
       "array(['seedo', 'deekman'], dtype='<U7')"
      ]
     },
     "execution_count": 31,
     "metadata": {},
     "output_type": "execute_result"
    }
   ],
   "source": [
    "# [0,0] = Row 0 (twice)\n",
    "# [1,0] = Column 1, 0 \n",
    "name_arr[[0,0], [1,0]]"
   ]
  },
  {
   "cell_type": "code",
   "execution_count": null,
   "id": "d1d48444",
   "metadata": {},
   "outputs": [],
   "source": [
    "name_arr[[0,0], [1,0]]"
   ]
  },
  {
   "cell_type": "code",
   "execution_count": 17,
   "id": "1dc1dde2",
   "metadata": {},
   "outputs": [
    {
     "data": {
      "text/plain": [
       "array([['deekman', 'seedo', 'mersing'],\n",
       "       ['xoverro', 'angelo', 'chiara']], dtype='<U7')"
      ]
     },
     "execution_count": 17,
     "metadata": {},
     "output_type": "execute_result"
    }
   ],
   "source": [
    "name_arr"
   ]
  },
  {
   "cell_type": "code",
   "execution_count": 18,
   "id": "48b01396",
   "metadata": {},
   "outputs": [
    {
     "data": {
      "text/plain": [
       "np.str_('deekman')"
      ]
     },
     "execution_count": 18,
     "metadata": {},
     "output_type": "execute_result"
    }
   ],
   "source": [
    "name_arr[0,0]"
   ]
  },
  {
   "cell_type": "code",
   "execution_count": 19,
   "id": "3e2faa89",
   "metadata": {},
   "outputs": [
    {
     "data": {
      "text/plain": [
       "array([['deekman', 'seedo', 'mersing'],\n",
       "       ['deekman', 'seedo', 'mersing']], dtype='<U7')"
      ]
     },
     "execution_count": 19,
     "metadata": {},
     "output_type": "execute_result"
    }
   ],
   "source": [
    "name_arr[[0,0]]"
   ]
  }
 ],
 "metadata": {
  "kernelspec": {
   "display_name": "ptc-ml-python-1",
   "language": "python",
   "name": "python3"
  },
  "language_info": {
   "codemirror_mode": {
    "name": "ipython",
    "version": 3
   },
   "file_extension": ".py",
   "mimetype": "text/x-python",
   "name": "python",
   "nbconvert_exporter": "python",
   "pygments_lexer": "ipython3",
   "version": "3.12.11"
  }
 },
 "nbformat": 4,
 "nbformat_minor": 5
}
